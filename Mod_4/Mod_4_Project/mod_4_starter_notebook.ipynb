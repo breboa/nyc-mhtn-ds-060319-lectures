{
 "cells": [
  {
   "cell_type": "markdown",
   "metadata": {},
   "source": [
    "# Mod 4 Project - Starter Notebook\n",
    "\n",
    "This notebook has been provided to you so that you can make use of the following starter code to help with the trickier parts of preprocessing the Zillow dataset. \n",
    "\n",
    "The notebook contains a rough outline the general order you'll likely want to take in this project. You'll notice that most of the areas are left blank. This is so that it's more obvious exactly when you should make use of the starter code provided for preprocessing. \n",
    "\n",
    "**_NOTE:_** The number of empty cells are not meant to infer how much or how little code should be involved in any given step--we've just provided a few for your convenience. Add, delete, and change things around in this notebook as needed!\n",
    "\n",
    "# Some Notes Before Starting\n",
    "\n",
    "This project will be one of the more challenging projects you complete in this program. This is because working with Time Series data is a bit different than working with regular datasets. In order to make this a bit less frustrating and help you understand what you need to do (and when you need to do it), we'll quickly review the dataset formats that you'll encounter in this project. \n",
    "\n",
    "## Wide Format vs Long Format\n",
    "\n",
    "If you take a look at the format of the data in `zillow_data.csv`, you'll notice that the actual Time Series values are stored as separate columns. Here's a sample: \n",
    "\n",
    "<img src='~/../images/df_head.png'>\n",
    "\n",
    "You'll notice that the first seven columns look like any other dataset you're used to working with. However, column 8 refers to the median housing sales values for April 1996, column 9 for May 1996, and so on. This This is called **_Wide Format_**, and it makes the dataframe intuitive and easy to read. However, there are problems with this format when it comes to actually learning from the data, because the data only makes sense if you know the name of the column that the data can be found it. Since column names are metadata, our algorithms will miss out on what dates each value is for. This means that before we pass this data to our ARIMA model, we'll need to reshape our dataset to **_Long Format_**. Reshaped into long format, the dataframe above would now look like:\n",
    "\n",
    "<img src='~/../images/melted1.png'>\n",
    "\n",
    "There are now many more rows in this dataset--one for each unique time and zipcode combination in the data! Once our dataset is in this format, we'll be able to train an ARIMA model on it. The method used to convert from Wide to Long is `pd.melt()`, and it is common to refer to our dataset as 'melted' after the transition to denote that it is in long format. \n",
    "\n",
    "# Helper Functions Provided\n",
    "\n",
    "Melting a dataset can be tricky if you've never done it before, so you'll see that we have provided a sample function, `melt_data()`, to help you with this step below. Also provided is:\n",
    "\n",
    "* `get_datetimes()`, a function to deal with converting the column values for datetimes as a pandas series of datetime objects\n",
    "* Some good parameters for matplotlib to help make your visualizations more readable. \n",
    "\n",
    "Good luck!\n",
    "\n",
    "\n",
    "# Step 1: Load the Data/Filtering for Chosen Zipcodes"
   ]
  },
  {
   "cell_type": "code",
   "execution_count": 80,
   "metadata": {},
   "outputs": [],
   "source": [
    "# Import necessary libraries.\n",
    "\n",
    "import pandas as pd\n",
    "import warnings\n",
    "import itertools\n",
    "import numpy as np\n",
    "import pandas as pd\n",
    "import statsmodels.api as sm\n",
    "from statsmodels.tsa.stattools import adfuller \n",
    "from statsmodels.tsa.stattools import acf, pacf \n",
    "from statsmodels.tsa.arima_model import ARIMA\n",
    "import matplotlib.pyplot as plt\n",
    "from matplotlib.pylab import rcParams \n",
    "rcParams['figure.figsize'] = 10, 6\n",
    "warnings.filterwarnings(\"ignore\")\n"
   ]
  },
  {
   "cell_type": "code",
   "execution_count": 81,
   "metadata": {},
   "outputs": [],
   "source": [
    "# Load zillow_data.csv into a data frame.\n",
    "df = pd.io.parsers.read_csv('zillow_data.csv', dtype={'RegionName': 'str'})"
   ]
  },
  {
   "cell_type": "code",
   "execution_count": 82,
   "metadata": {},
   "outputs": [
    {
     "data": {
      "text/html": [
       "<div>\n",
       "<style scoped>\n",
       "    .dataframe tbody tr th:only-of-type {\n",
       "        vertical-align: middle;\n",
       "    }\n",
       "\n",
       "    .dataframe tbody tr th {\n",
       "        vertical-align: top;\n",
       "    }\n",
       "\n",
       "    .dataframe thead th {\n",
       "        text-align: right;\n",
       "    }\n",
       "</style>\n",
       "<table border=\"1\" class=\"dataframe\">\n",
       "  <thead>\n",
       "    <tr style=\"text-align: right;\">\n",
       "      <th></th>\n",
       "      <th>RegionID</th>\n",
       "      <th>RegionName</th>\n",
       "      <th>City</th>\n",
       "      <th>State</th>\n",
       "      <th>Metro</th>\n",
       "      <th>CountyName</th>\n",
       "      <th>SizeRank</th>\n",
       "      <th>1996-04</th>\n",
       "      <th>1996-05</th>\n",
       "      <th>1996-06</th>\n",
       "      <th>...</th>\n",
       "      <th>2017-07</th>\n",
       "      <th>2017-08</th>\n",
       "      <th>2017-09</th>\n",
       "      <th>2017-10</th>\n",
       "      <th>2017-11</th>\n",
       "      <th>2017-12</th>\n",
       "      <th>2018-01</th>\n",
       "      <th>2018-02</th>\n",
       "      <th>2018-03</th>\n",
       "      <th>2018-04</th>\n",
       "    </tr>\n",
       "  </thead>\n",
       "  <tbody>\n",
       "    <tr>\n",
       "      <th>0</th>\n",
       "      <td>84654</td>\n",
       "      <td>60657</td>\n",
       "      <td>Chicago</td>\n",
       "      <td>IL</td>\n",
       "      <td>Chicago</td>\n",
       "      <td>Cook</td>\n",
       "      <td>1</td>\n",
       "      <td>334200.0</td>\n",
       "      <td>335400.0</td>\n",
       "      <td>336500.0</td>\n",
       "      <td>...</td>\n",
       "      <td>1005500</td>\n",
       "      <td>1007500</td>\n",
       "      <td>1007800</td>\n",
       "      <td>1009600</td>\n",
       "      <td>1013300</td>\n",
       "      <td>1018700</td>\n",
       "      <td>1024400</td>\n",
       "      <td>1030700</td>\n",
       "      <td>1033800</td>\n",
       "      <td>1030600</td>\n",
       "    </tr>\n",
       "    <tr>\n",
       "      <th>1</th>\n",
       "      <td>90668</td>\n",
       "      <td>75070</td>\n",
       "      <td>McKinney</td>\n",
       "      <td>TX</td>\n",
       "      <td>Dallas-Fort Worth</td>\n",
       "      <td>Collin</td>\n",
       "      <td>2</td>\n",
       "      <td>235700.0</td>\n",
       "      <td>236900.0</td>\n",
       "      <td>236700.0</td>\n",
       "      <td>...</td>\n",
       "      <td>308000</td>\n",
       "      <td>310000</td>\n",
       "      <td>312500</td>\n",
       "      <td>314100</td>\n",
       "      <td>315000</td>\n",
       "      <td>316600</td>\n",
       "      <td>318100</td>\n",
       "      <td>319600</td>\n",
       "      <td>321100</td>\n",
       "      <td>321800</td>\n",
       "    </tr>\n",
       "    <tr>\n",
       "      <th>2</th>\n",
       "      <td>91982</td>\n",
       "      <td>77494</td>\n",
       "      <td>Katy</td>\n",
       "      <td>TX</td>\n",
       "      <td>Houston</td>\n",
       "      <td>Harris</td>\n",
       "      <td>3</td>\n",
       "      <td>210400.0</td>\n",
       "      <td>212200.0</td>\n",
       "      <td>212200.0</td>\n",
       "      <td>...</td>\n",
       "      <td>321000</td>\n",
       "      <td>320600</td>\n",
       "      <td>320200</td>\n",
       "      <td>320400</td>\n",
       "      <td>320800</td>\n",
       "      <td>321200</td>\n",
       "      <td>321200</td>\n",
       "      <td>323000</td>\n",
       "      <td>326900</td>\n",
       "      <td>329900</td>\n",
       "    </tr>\n",
       "    <tr>\n",
       "      <th>3</th>\n",
       "      <td>84616</td>\n",
       "      <td>60614</td>\n",
       "      <td>Chicago</td>\n",
       "      <td>IL</td>\n",
       "      <td>Chicago</td>\n",
       "      <td>Cook</td>\n",
       "      <td>4</td>\n",
       "      <td>498100.0</td>\n",
       "      <td>500900.0</td>\n",
       "      <td>503100.0</td>\n",
       "      <td>...</td>\n",
       "      <td>1289800</td>\n",
       "      <td>1287700</td>\n",
       "      <td>1287400</td>\n",
       "      <td>1291500</td>\n",
       "      <td>1296600</td>\n",
       "      <td>1299000</td>\n",
       "      <td>1302700</td>\n",
       "      <td>1306400</td>\n",
       "      <td>1308500</td>\n",
       "      <td>1307000</td>\n",
       "    </tr>\n",
       "    <tr>\n",
       "      <th>4</th>\n",
       "      <td>93144</td>\n",
       "      <td>79936</td>\n",
       "      <td>El Paso</td>\n",
       "      <td>TX</td>\n",
       "      <td>El Paso</td>\n",
       "      <td>El Paso</td>\n",
       "      <td>5</td>\n",
       "      <td>77300.0</td>\n",
       "      <td>77300.0</td>\n",
       "      <td>77300.0</td>\n",
       "      <td>...</td>\n",
       "      <td>119100</td>\n",
       "      <td>119400</td>\n",
       "      <td>120000</td>\n",
       "      <td>120300</td>\n",
       "      <td>120300</td>\n",
       "      <td>120300</td>\n",
       "      <td>120300</td>\n",
       "      <td>120500</td>\n",
       "      <td>121000</td>\n",
       "      <td>121500</td>\n",
       "    </tr>\n",
       "  </tbody>\n",
       "</table>\n",
       "<p>5 rows × 272 columns</p>\n",
       "</div>"
      ],
      "text/plain": [
       "   RegionID RegionName      City State              Metro CountyName  \\\n",
       "0     84654      60657   Chicago    IL            Chicago       Cook   \n",
       "1     90668      75070  McKinney    TX  Dallas-Fort Worth     Collin   \n",
       "2     91982      77494      Katy    TX            Houston     Harris   \n",
       "3     84616      60614   Chicago    IL            Chicago       Cook   \n",
       "4     93144      79936   El Paso    TX            El Paso    El Paso   \n",
       "\n",
       "   SizeRank   1996-04   1996-05   1996-06   ...     2017-07  2017-08  2017-09  \\\n",
       "0         1  334200.0  335400.0  336500.0   ...     1005500  1007500  1007800   \n",
       "1         2  235700.0  236900.0  236700.0   ...      308000   310000   312500   \n",
       "2         3  210400.0  212200.0  212200.0   ...      321000   320600   320200   \n",
       "3         4  498100.0  500900.0  503100.0   ...     1289800  1287700  1287400   \n",
       "4         5   77300.0   77300.0   77300.0   ...      119100   119400   120000   \n",
       "\n",
       "   2017-10  2017-11  2017-12  2018-01  2018-02  2018-03  2018-04  \n",
       "0  1009600  1013300  1018700  1024400  1030700  1033800  1030600  \n",
       "1   314100   315000   316600   318100   319600   321100   321800  \n",
       "2   320400   320800   321200   321200   323000   326900   329900  \n",
       "3  1291500  1296600  1299000  1302700  1306400  1308500  1307000  \n",
       "4   120300   120300   120300   120300   120500   121000   121500  \n",
       "\n",
       "[5 rows x 272 columns]"
      ]
     },
     "execution_count": 82,
     "metadata": {},
     "output_type": "execute_result"
    }
   ],
   "source": [
    "# Check the data frame loaded properly.\n",
    "\n",
    "df.head()"
   ]
  },
  {
   "cell_type": "code",
   "execution_count": 83,
   "metadata": {},
   "outputs": [
    {
     "name": "stdout",
     "output_type": "stream",
     "text": [
      "<class 'pandas.core.frame.DataFrame'>\n",
      "RangeIndex: 14723 entries, 0 to 14722\n",
      "Columns: 272 entries, RegionID to 2018-04\n",
      "dtypes: float64(219), int64(48), object(5)\n",
      "memory usage: 30.6+ MB\n"
     ]
    }
   ],
   "source": [
    "df.info()"
   ]
  },
  {
   "cell_type": "markdown",
   "metadata": {},
   "source": [
    "# Step 2: Data Preprocessing"
   ]
  },
  {
   "cell_type": "code",
   "execution_count": 84,
   "metadata": {},
   "outputs": [],
   "source": [
    "# Create a function to format time columns.\n",
    "\n",
    "def get_datetimes(df):\n",
    "    return pd.to_datetime(df.columns.values[1:], format='%Y-%m')"
   ]
  },
  {
   "cell_type": "markdown",
   "metadata": {},
   "source": [
    "# Step 3: Reshape from Wide to Long Format"
   ]
  },
  {
   "cell_type": "code",
   "execution_count": 85,
   "metadata": {},
   "outputs": [],
   "source": [
    "# Create function to reshape the data frame with a time column.\n",
    "\n",
    "def melt_data(df):\n",
    "    melted = pd.melt(df, id_vars=['RegionName', 'City', 'State', 'Metro', 'CountyName', 'RegionID', 'SizeRank'], var_name='time')\n",
    "    melted['time'] = pd.to_datetime(melted['time'], infer_datetime_format=True)\n",
    "    melted = melted.dropna(subset=['value'])\n",
    "    return melted"
   ]
  },
  {
   "cell_type": "code",
   "execution_count": 86,
   "metadata": {},
   "outputs": [],
   "source": [
    "# Melted the data frame.\n",
    "df = melt_data(df)"
   ]
  },
  {
   "cell_type": "code",
   "execution_count": 87,
   "metadata": {
    "scrolled": true
   },
   "outputs": [],
   "source": [
    "# Rename RegionName to ZipCode and drop RegionID, SizeRank, and Metro.\n",
    "df.rename(columns={'RegionName': 'ZipCode'}, inplace = True)"
   ]
  },
  {
   "cell_type": "code",
   "execution_count": 88,
   "metadata": {},
   "outputs": [
    {
     "data": {
      "text/html": [
       "<div>\n",
       "<style scoped>\n",
       "    .dataframe tbody tr th:only-of-type {\n",
       "        vertical-align: middle;\n",
       "    }\n",
       "\n",
       "    .dataframe tbody tr th {\n",
       "        vertical-align: top;\n",
       "    }\n",
       "\n",
       "    .dataframe thead th {\n",
       "        text-align: right;\n",
       "    }\n",
       "</style>\n",
       "<table border=\"1\" class=\"dataframe\">\n",
       "  <thead>\n",
       "    <tr style=\"text-align: right;\">\n",
       "      <th>ZipCode</th>\n",
       "      <th>01001</th>\n",
       "      <th>01002</th>\n",
       "      <th>01005</th>\n",
       "      <th>01007</th>\n",
       "      <th>01008</th>\n",
       "      <th>01010</th>\n",
       "      <th>01011</th>\n",
       "      <th>01013</th>\n",
       "      <th>01020</th>\n",
       "      <th>01026</th>\n",
       "      <th>...</th>\n",
       "      <th>99654</th>\n",
       "      <th>99664</th>\n",
       "      <th>99669</th>\n",
       "      <th>99701</th>\n",
       "      <th>99705</th>\n",
       "      <th>99709</th>\n",
       "      <th>99712</th>\n",
       "      <th>99801</th>\n",
       "      <th>99835</th>\n",
       "      <th>99901</th>\n",
       "    </tr>\n",
       "    <tr>\n",
       "      <th>time</th>\n",
       "      <th></th>\n",
       "      <th></th>\n",
       "      <th></th>\n",
       "      <th></th>\n",
       "      <th></th>\n",
       "      <th></th>\n",
       "      <th></th>\n",
       "      <th></th>\n",
       "      <th></th>\n",
       "      <th></th>\n",
       "      <th></th>\n",
       "      <th></th>\n",
       "      <th></th>\n",
       "      <th></th>\n",
       "      <th></th>\n",
       "      <th></th>\n",
       "      <th></th>\n",
       "      <th></th>\n",
       "      <th></th>\n",
       "      <th></th>\n",
       "      <th></th>\n",
       "    </tr>\n",
       "  </thead>\n",
       "  <tbody>\n",
       "    <tr>\n",
       "      <th>1996-04-01</th>\n",
       "      <td>113100.0</td>\n",
       "      <td>161000.0</td>\n",
       "      <td>103100.0</td>\n",
       "      <td>133400.0</td>\n",
       "      <td>117500.0</td>\n",
       "      <td>115800.0</td>\n",
       "      <td>87000.0</td>\n",
       "      <td>88500.0</td>\n",
       "      <td>97200.0</td>\n",
       "      <td>91200.0</td>\n",
       "      <td>...</td>\n",
       "      <td>122700.0</td>\n",
       "      <td>112200.0</td>\n",
       "      <td>112500.0</td>\n",
       "      <td>89400.0</td>\n",
       "      <td>101900.0</td>\n",
       "      <td>103000.0</td>\n",
       "      <td>109200.0</td>\n",
       "      <td>166800.0</td>\n",
       "      <td>155500.0</td>\n",
       "      <td>117100.0</td>\n",
       "    </tr>\n",
       "    <tr>\n",
       "      <th>1996-05-01</th>\n",
       "      <td>112800.0</td>\n",
       "      <td>160100.0</td>\n",
       "      <td>103400.0</td>\n",
       "      <td>132700.0</td>\n",
       "      <td>117300.0</td>\n",
       "      <td>115700.0</td>\n",
       "      <td>87000.0</td>\n",
       "      <td>88500.0</td>\n",
       "      <td>97100.0</td>\n",
       "      <td>91100.0</td>\n",
       "      <td>...</td>\n",
       "      <td>124200.0</td>\n",
       "      <td>112400.0</td>\n",
       "      <td>113100.0</td>\n",
       "      <td>89800.0</td>\n",
       "      <td>102900.0</td>\n",
       "      <td>103900.0</td>\n",
       "      <td>109600.0</td>\n",
       "      <td>166200.0</td>\n",
       "      <td>154900.0</td>\n",
       "      <td>117200.0</td>\n",
       "    </tr>\n",
       "    <tr>\n",
       "      <th>1996-06-01</th>\n",
       "      <td>112600.0</td>\n",
       "      <td>159300.0</td>\n",
       "      <td>103600.0</td>\n",
       "      <td>132000.0</td>\n",
       "      <td>117100.0</td>\n",
       "      <td>115500.0</td>\n",
       "      <td>87100.0</td>\n",
       "      <td>88400.0</td>\n",
       "      <td>97000.0</td>\n",
       "      <td>91000.0</td>\n",
       "      <td>...</td>\n",
       "      <td>125700.0</td>\n",
       "      <td>112600.0</td>\n",
       "      <td>113800.0</td>\n",
       "      <td>90200.0</td>\n",
       "      <td>103800.0</td>\n",
       "      <td>104700.0</td>\n",
       "      <td>110000.0</td>\n",
       "      <td>165400.0</td>\n",
       "      <td>154200.0</td>\n",
       "      <td>117300.0</td>\n",
       "    </tr>\n",
       "    <tr>\n",
       "      <th>1996-07-01</th>\n",
       "      <td>112300.0</td>\n",
       "      <td>158600.0</td>\n",
       "      <td>103800.0</td>\n",
       "      <td>131400.0</td>\n",
       "      <td>117000.0</td>\n",
       "      <td>115300.0</td>\n",
       "      <td>87200.0</td>\n",
       "      <td>88300.0</td>\n",
       "      <td>96800.0</td>\n",
       "      <td>90800.0</td>\n",
       "      <td>...</td>\n",
       "      <td>127200.0</td>\n",
       "      <td>112800.0</td>\n",
       "      <td>114400.0</td>\n",
       "      <td>90600.0</td>\n",
       "      <td>104700.0</td>\n",
       "      <td>105500.0</td>\n",
       "      <td>110400.0</td>\n",
       "      <td>164400.0</td>\n",
       "      <td>153500.0</td>\n",
       "      <td>117400.0</td>\n",
       "    </tr>\n",
       "    <tr>\n",
       "      <th>1996-08-01</th>\n",
       "      <td>112100.0</td>\n",
       "      <td>158000.0</td>\n",
       "      <td>103900.0</td>\n",
       "      <td>130800.0</td>\n",
       "      <td>116800.0</td>\n",
       "      <td>115100.0</td>\n",
       "      <td>87400.0</td>\n",
       "      <td>88200.0</td>\n",
       "      <td>96600.0</td>\n",
       "      <td>90700.0</td>\n",
       "      <td>...</td>\n",
       "      <td>128600.0</td>\n",
       "      <td>113000.0</td>\n",
       "      <td>115100.0</td>\n",
       "      <td>91000.0</td>\n",
       "      <td>105400.0</td>\n",
       "      <td>106200.0</td>\n",
       "      <td>110800.0</td>\n",
       "      <td>163500.0</td>\n",
       "      <td>152800.0</td>\n",
       "      <td>117500.0</td>\n",
       "    </tr>\n",
       "  </tbody>\n",
       "</table>\n",
       "<p>5 rows × 14723 columns</p>\n",
       "</div>"
      ],
      "text/plain": [
       "ZipCode        01001     01002     01005     01007     01008     01010  \\\n",
       "time                                                                     \n",
       "1996-04-01  113100.0  161000.0  103100.0  133400.0  117500.0  115800.0   \n",
       "1996-05-01  112800.0  160100.0  103400.0  132700.0  117300.0  115700.0   \n",
       "1996-06-01  112600.0  159300.0  103600.0  132000.0  117100.0  115500.0   \n",
       "1996-07-01  112300.0  158600.0  103800.0  131400.0  117000.0  115300.0   \n",
       "1996-08-01  112100.0  158000.0  103900.0  130800.0  116800.0  115100.0   \n",
       "\n",
       "ZipCode       01011    01013    01020    01026    ...        99654     99664  \\\n",
       "time                                              ...                          \n",
       "1996-04-01  87000.0  88500.0  97200.0  91200.0    ...     122700.0  112200.0   \n",
       "1996-05-01  87000.0  88500.0  97100.0  91100.0    ...     124200.0  112400.0   \n",
       "1996-06-01  87100.0  88400.0  97000.0  91000.0    ...     125700.0  112600.0   \n",
       "1996-07-01  87200.0  88300.0  96800.0  90800.0    ...     127200.0  112800.0   \n",
       "1996-08-01  87400.0  88200.0  96600.0  90700.0    ...     128600.0  113000.0   \n",
       "\n",
       "ZipCode        99669    99701     99705     99709     99712     99801  \\\n",
       "time                                                                    \n",
       "1996-04-01  112500.0  89400.0  101900.0  103000.0  109200.0  166800.0   \n",
       "1996-05-01  113100.0  89800.0  102900.0  103900.0  109600.0  166200.0   \n",
       "1996-06-01  113800.0  90200.0  103800.0  104700.0  110000.0  165400.0   \n",
       "1996-07-01  114400.0  90600.0  104700.0  105500.0  110400.0  164400.0   \n",
       "1996-08-01  115100.0  91000.0  105400.0  106200.0  110800.0  163500.0   \n",
       "\n",
       "ZipCode        99835     99901  \n",
       "time                            \n",
       "1996-04-01  155500.0  117100.0  \n",
       "1996-05-01  154900.0  117200.0  \n",
       "1996-06-01  154200.0  117300.0  \n",
       "1996-07-01  153500.0  117400.0  \n",
       "1996-08-01  152800.0  117500.0  \n",
       "\n",
       "[5 rows x 14723 columns]"
      ]
     },
     "execution_count": 88,
     "metadata": {},
     "output_type": "execute_result"
    }
   ],
   "source": [
    "df = df.pivot_table(index='time', columns ='ZipCode', values = 'value')\n",
    "df.head()"
   ]
  },
  {
   "cell_type": "code",
   "execution_count": 132,
   "metadata": {},
   "outputs": [
    {
     "data": {
      "text/plain": [
       "93"
      ]
     },
     "execution_count": 132,
     "metadata": {},
     "output_type": "execute_result"
    }
   ],
   "source": [
    "df['10021'].isna().sum()"
   ]
  },
  {
   "cell_type": "code",
   "execution_count": 116,
   "metadata": {},
   "outputs": [],
   "source": [
    "#Find average of each zipcode to select\n",
    "# sorted(np.mean(df))"
   ]
  },
  {
   "cell_type": "code",
   "execution_count": 90,
   "metadata": {},
   "outputs": [
    {
     "data": {
      "text/html": [
       "<div>\n",
       "<style scoped>\n",
       "    .dataframe tbody tr th:only-of-type {\n",
       "        vertical-align: middle;\n",
       "    }\n",
       "\n",
       "    .dataframe tbody tr th {\n",
       "        vertical-align: top;\n",
       "    }\n",
       "\n",
       "    .dataframe thead th {\n",
       "        text-align: right;\n",
       "    }\n",
       "</style>\n",
       "<table border=\"1\" class=\"dataframe\">\n",
       "  <thead>\n",
       "    <tr style=\"text-align: right;\">\n",
       "      <th></th>\n",
       "      <th>01001</th>\n",
       "      <th>01002</th>\n",
       "      <th>01005</th>\n",
       "      <th>01007</th>\n",
       "      <th>01008</th>\n",
       "      <th>01010</th>\n",
       "      <th>01011</th>\n",
       "      <th>01013</th>\n",
       "      <th>01020</th>\n",
       "      <th>01026</th>\n",
       "      <th>...</th>\n",
       "      <th>99654</th>\n",
       "      <th>99664</th>\n",
       "      <th>99669</th>\n",
       "      <th>99701</th>\n",
       "      <th>99705</th>\n",
       "      <th>99709</th>\n",
       "      <th>99712</th>\n",
       "      <th>99801</th>\n",
       "      <th>99835</th>\n",
       "      <th>99901</th>\n",
       "    </tr>\n",
       "  </thead>\n",
       "  <tbody>\n",
       "    <tr>\n",
       "      <th>2018-04-01</th>\n",
       "      <td>174509.811321</td>\n",
       "      <td>273152.45283</td>\n",
       "      <td>172650.943396</td>\n",
       "      <td>217938.113208</td>\n",
       "      <td>175319.622642</td>\n",
       "      <td>198326.037736</td>\n",
       "      <td>135570.566038</td>\n",
       "      <td>138181.132075</td>\n",
       "      <td>148291.320755</td>\n",
       "      <td>167812.830189</td>\n",
       "      <td>...</td>\n",
       "      <td>210570.188679</td>\n",
       "      <td>178592.45283</td>\n",
       "      <td>195283.018868</td>\n",
       "      <td>171467.924528</td>\n",
       "      <td>206160.377358</td>\n",
       "      <td>209635.09434</td>\n",
       "      <td>217032.075472</td>\n",
       "      <td>290029.433962</td>\n",
       "      <td>273726.415094</td>\n",
       "      <td>216198.490566</td>\n",
       "    </tr>\n",
       "  </tbody>\n",
       "</table>\n",
       "<p>1 rows × 14723 columns</p>\n",
       "</div>"
      ],
      "text/plain": [
       "                    01001         01002          01005          01007  \\\n",
       "2018-04-01  174509.811321  273152.45283  172650.943396  217938.113208   \n",
       "\n",
       "                    01008          01010          01011          01013  \\\n",
       "2018-04-01  175319.622642  198326.037736  135570.566038  138181.132075   \n",
       "\n",
       "                    01020          01026      ...                99654  \\\n",
       "2018-04-01  148291.320755  167812.830189      ...        210570.188679   \n",
       "\n",
       "                   99664          99669          99701          99705  \\\n",
       "2018-04-01  178592.45283  195283.018868  171467.924528  206160.377358   \n",
       "\n",
       "                   99709          99712          99801          99835  \\\n",
       "2018-04-01  209635.09434  217032.075472  290029.433962  273726.415094   \n",
       "\n",
       "                    99901  \n",
       "2018-04-01  216198.490566  \n",
       "\n",
       "[1 rows x 14723 columns]"
      ]
     },
     "execution_count": 90,
     "metadata": {},
     "output_type": "execute_result"
    }
   ],
   "source": [
    "new_df = pd.DataFrame(df.mean().to_dict(),index=[df.index.values[-1]])\n",
    "new_df.head()"
   ]
  },
  {
   "cell_type": "code",
   "execution_count": 109,
   "metadata": {},
   "outputs": [],
   "source": [
    "#df.mean().sort_values(ascending = False)"
   ]
  },
  {
   "cell_type": "code",
   "execution_count": 129,
   "metadata": {},
   "outputs": [],
   "source": [
    "def select_columns(data_frame, column_names):\n",
    "    new_frame = data_frame.loc[:, column_names]\n",
    "    return new_frame"
   ]
  },
  {
   "cell_type": "code",
   "execution_count": 133,
   "metadata": {},
   "outputs": [],
   "source": [
    "# column_names = ['10021', '10011', '10014', '10128', '94027']\n",
    "# select_columns(df, column_names)"
   ]
  },
  {
   "cell_type": "code",
   "execution_count": 134,
   "metadata": {},
   "outputs": [],
   "source": [
    "#highest_ZipCodes.isna()"
   ]
  },
  {
   "cell_type": "code",
   "execution_count": 139,
   "metadata": {},
   "outputs": [],
   "source": [
    "column_names = ['10128', '94027']\n",
    "dataframe = select_columns(df, column_names)"
   ]
  },
  {
   "cell_type": "code",
   "execution_count": 158,
   "metadata": {},
   "outputs": [
    {
     "data": {
      "text/html": [
       "<div>\n",
       "<style scoped>\n",
       "    .dataframe tbody tr th:only-of-type {\n",
       "        vertical-align: middle;\n",
       "    }\n",
       "\n",
       "    .dataframe tbody tr th {\n",
       "        vertical-align: top;\n",
       "    }\n",
       "\n",
       "    .dataframe thead th {\n",
       "        text-align: right;\n",
       "    }\n",
       "</style>\n",
       "<table border=\"1\" class=\"dataframe\">\n",
       "  <thead>\n",
       "    <tr style=\"text-align: right;\">\n",
       "      <th>ZipCode</th>\n",
       "      <th>10128</th>\n",
       "      <th>94027</th>\n",
       "    </tr>\n",
       "    <tr>\n",
       "      <th>time</th>\n",
       "      <th></th>\n",
       "      <th></th>\n",
       "    </tr>\n",
       "  </thead>\n",
       "  <tbody>\n",
       "    <tr>\n",
       "      <th>1996-04-01</th>\n",
       "      <td>3676700.0</td>\n",
       "      <td>1179200.0</td>\n",
       "    </tr>\n",
       "    <tr>\n",
       "      <th>1996-05-01</th>\n",
       "      <td>3704200.0</td>\n",
       "      <td>1184300.0</td>\n",
       "    </tr>\n",
       "    <tr>\n",
       "      <th>1996-06-01</th>\n",
       "      <td>3729600.0</td>\n",
       "      <td>1189700.0</td>\n",
       "    </tr>\n",
       "    <tr>\n",
       "      <th>1996-07-01</th>\n",
       "      <td>3754600.0</td>\n",
       "      <td>1195400.0</td>\n",
       "    </tr>\n",
       "    <tr>\n",
       "      <th>1996-08-01</th>\n",
       "      <td>3781800.0</td>\n",
       "      <td>1201200.0</td>\n",
       "    </tr>\n",
       "  </tbody>\n",
       "</table>\n",
       "</div>"
      ],
      "text/plain": [
       "ZipCode         10128      94027\n",
       "time                            \n",
       "1996-04-01  3676700.0  1179200.0\n",
       "1996-05-01  3704200.0  1184300.0\n",
       "1996-06-01  3729600.0  1189700.0\n",
       "1996-07-01  3754600.0  1195400.0\n",
       "1996-08-01  3781800.0  1201200.0"
      ]
     },
     "execution_count": 158,
     "metadata": {},
     "output_type": "execute_result"
    }
   ],
   "source": [
    "dataframe.head()"
   ]
  },
  {
   "cell_type": "code",
   "execution_count": null,
   "metadata": {},
   "outputs": [],
   "source": []
  },
  {
   "cell_type": "markdown",
   "metadata": {},
   "source": [
    "# Step 4: EDA and Visualization\n",
    "Perform basic EDA as you would building any model, then create at least 3 visualizations.  At least one of the visualizations should have time on the x-axis.  Axes should be labeled and any text should be legible."
   ]
  },
  {
   "cell_type": "code",
   "execution_count": 141,
   "metadata": {},
   "outputs": [
    {
     "data": {
      "text/plain": [
       "[<matplotlib.lines.Line2D at 0x1c2d773ba8>,\n",
       " <matplotlib.lines.Line2D at 0x1c2d78a438>]"
      ]
     },
     "execution_count": 141,
     "metadata": {},
     "output_type": "execute_result"
    },
    {
     "data": {
      "image/png": "[encoded data removed]",
      "text/plain": [
       "<Figure size 720x432 with 1 Axes>"
      ]
     },
     "metadata": {},
     "output_type": "display_data"
    }
   ],
   "source": [
    "plt.xlabel('Date')\n",
    "plt.ylabel('Values')\n",
    "plt.plot(dataframe)"
   ]
  },
  {
   "cell_type": "code",
   "execution_count": 156,
   "metadata": {},
   "outputs": [],
   "source": [
    "#check stationary function \n",
    "\n",
    "def test_stationarity(timeseries):\n",
    "    \n",
    "    #Determine rolling statistis\n",
    "    rolMean = timeseries.rolling(window=12).mean()\n",
    "    rolStd = timeseries.rolling(window=12).std()\n",
    "    \n",
    "    #Plot rolling statistics \n",
    "    orig = plt.plot(timeseries, color = 'blue', label = 'Original')\n",
    "    mean = plt.plot(rolMean, color = 'red', label = 'Rolling Mean')\n",
    "    std = plt.plot(rolStd, color = 'black', label = 'Rolling Std')\n",
    "    plt.legend(loc = 'best')\n",
    "    plt.title('Moving Average & Standard Deviation')\n",
    "    plt.show(block = False)\n",
    "    \n",
    "    #Perform dickey-fuller test \n",
    "    print('Results of Dickey-Fuller Test:')\n",
    "    dftest = adfuller(dataframe[['value']], autolag ='AIC')\n",
    "    dfoutput =pdSeries(dftest[0:4], index = ['Test Statistic', 'P Value', 'Lags Used', 'Number of Observations Used'])\n",
    "    for key.value in dftest[4].items():\n",
    "        dfoutput['Critical Value (%s)'%ky] = value\n",
    "    print(dfoutput)"
   ]
  },
  {
   "cell_type": "code",
   "execution_count": 157,
   "metadata": {},
   "outputs": [
    {
     "data": {
      "image/png": "[encoded data removed]",
      "text/plain": [
       "<Figure size 720x432 with 1 Axes>"
      ]
     },
     "metadata": {},
     "output_type": "display_data"
    },
    {
     "name": "stdout",
     "output_type": "stream",
     "text": [
      "Results of Dickey-Fuller Test:\n"
     ]
    },
    {
     "ename": "ValueError",
     "evalue": "too many values to unpack (expected 2)",
     "output_type": "error",
     "traceback": [
      "\u001b[0;31m---------------------------------------------------------------------------\u001b[0m",
      "\u001b[0;31mValueError\u001b[0m                                Traceback (most recent call last)",
      "\u001b[0;32m<ipython-input-157-554d8d445dad>\u001b[0m in \u001b[0;36m<module>\u001b[0;34m()\u001b[0m\n\u001b[0;32m----> 1\u001b[0;31m \u001b[0mtest_stationarity\u001b[0m\u001b[0;34m(\u001b[0m\u001b[0mdataframe\u001b[0m\u001b[0;34m)\u001b[0m\u001b[0;34m\u001b[0m\u001b[0m\n\u001b[0m",
      "\u001b[0;32m<ipython-input-156-87ff588c721d>\u001b[0m in \u001b[0;36mtest_stationarity\u001b[0;34m(timeseries)\u001b[0m\n\u001b[1;32m     17\u001b[0m     \u001b[0;31m#Perform dickey-fuller test\u001b[0m\u001b[0;34m\u001b[0m\u001b[0;34m\u001b[0m\u001b[0m\n\u001b[1;32m     18\u001b[0m     \u001b[0mprint\u001b[0m\u001b[0;34m(\u001b[0m\u001b[0;34m'Results of Dickey-Fuller Test:'\u001b[0m\u001b[0;34m)\u001b[0m\u001b[0;34m\u001b[0m\u001b[0m\n\u001b[0;32m---> 19\u001b[0;31m     \u001b[0mdftest\u001b[0m \u001b[0;34m=\u001b[0m \u001b[0madfuller\u001b[0m\u001b[0;34m(\u001b[0m\u001b[0mdataframe\u001b[0m\u001b[0;34m[\u001b[0m\u001b[0;34m[\u001b[0m\u001b[0;34m'10128'\u001b[0m\u001b[0;34m,\u001b[0m \u001b[0;34m'94027'\u001b[0m\u001b[0;34m]\u001b[0m\u001b[0;34m]\u001b[0m\u001b[0;34m,\u001b[0m \u001b[0mautolag\u001b[0m \u001b[0;34m=\u001b[0m\u001b[0;34m'AIC'\u001b[0m\u001b[0;34m)\u001b[0m\u001b[0;34m\u001b[0m\u001b[0m\n\u001b[0m\u001b[1;32m     20\u001b[0m     \u001b[0mdfoutput\u001b[0m \u001b[0;34m=\u001b[0m\u001b[0mpdSeries\u001b[0m\u001b[0;34m(\u001b[0m\u001b[0mdftest\u001b[0m\u001b[0;34m[\u001b[0m\u001b[0;36m0\u001b[0m\u001b[0;34m:\u001b[0m\u001b[0;36m4\u001b[0m\u001b[0;34m]\u001b[0m\u001b[0;34m,\u001b[0m \u001b[0mindex\u001b[0m \u001b[0;34m=\u001b[0m \u001b[0;34m[\u001b[0m\u001b[0;34m'Test Statistic'\u001b[0m\u001b[0;34m,\u001b[0m \u001b[0;34m'P Value'\u001b[0m\u001b[0;34m,\u001b[0m \u001b[0;34m'Lags Used'\u001b[0m\u001b[0;34m,\u001b[0m \u001b[0;34m'Number of Observations Used'\u001b[0m\u001b[0;34m]\u001b[0m\u001b[0;34m)\u001b[0m\u001b[0;34m\u001b[0m\u001b[0m\n\u001b[1;32m     21\u001b[0m     \u001b[0;32mfor\u001b[0m \u001b[0mkey\u001b[0m\u001b[0;34m.\u001b[0m\u001b[0mvalue\u001b[0m \u001b[0;32min\u001b[0m \u001b[0mdftest\u001b[0m\u001b[0;34m[\u001b[0m\u001b[0;36m4\u001b[0m\u001b[0;34m]\u001b[0m\u001b[0;34m.\u001b[0m\u001b[0mitems\u001b[0m\u001b[0;34m(\u001b[0m\u001b[0;34m)\u001b[0m\u001b[0;34m:\u001b[0m\u001b[0;34m\u001b[0m\u001b[0m\n",
      "\u001b[0;32m~/anaconda3/envs/learn-env/lib/python3.6/site-packages/statsmodels/tsa/stattools.py\u001b[0m in \u001b[0;36madfuller\u001b[0;34m(x, maxlag, regression, autolag, store, regresults)\u001b[0m\n\u001b[1;32m    219\u001b[0m \u001b[0;34m\u001b[0m\u001b[0m\n\u001b[1;32m    220\u001b[0m     \u001b[0mxdiff\u001b[0m \u001b[0;34m=\u001b[0m \u001b[0mnp\u001b[0m\u001b[0;34m.\u001b[0m\u001b[0mdiff\u001b[0m\u001b[0;34m(\u001b[0m\u001b[0mx\u001b[0m\u001b[0;34m)\u001b[0m\u001b[0;34m\u001b[0m\u001b[0m\n\u001b[0;32m--> 221\u001b[0;31m     \u001b[0mxdall\u001b[0m \u001b[0;34m=\u001b[0m \u001b[0mlagmat\u001b[0m\u001b[0;34m(\u001b[0m\u001b[0mxdiff\u001b[0m\u001b[0;34m[\u001b[0m\u001b[0;34m:\u001b[0m\u001b[0;34m,\u001b[0m \u001b[0;32mNone\u001b[0m\u001b[0;34m]\u001b[0m\u001b[0;34m,\u001b[0m \u001b[0mmaxlag\u001b[0m\u001b[0;34m,\u001b[0m \u001b[0mtrim\u001b[0m\u001b[0;34m=\u001b[0m\u001b[0;34m'both'\u001b[0m\u001b[0;34m,\u001b[0m \u001b[0moriginal\u001b[0m\u001b[0;34m=\u001b[0m\u001b[0;34m'in'\u001b[0m\u001b[0;34m)\u001b[0m\u001b[0;34m\u001b[0m\u001b[0m\n\u001b[0m\u001b[1;32m    222\u001b[0m     \u001b[0mnobs\u001b[0m \u001b[0;34m=\u001b[0m \u001b[0mxdall\u001b[0m\u001b[0;34m.\u001b[0m\u001b[0mshape\u001b[0m\u001b[0;34m[\u001b[0m\u001b[0;36m0\u001b[0m\u001b[0;34m]\u001b[0m  \u001b[0;31m# pylint: disable=E1103\u001b[0m\u001b[0;34m\u001b[0m\u001b[0m\n\u001b[1;32m    223\u001b[0m \u001b[0;34m\u001b[0m\u001b[0m\n",
      "\u001b[0;32m~/anaconda3/envs/learn-env/lib/python3.6/site-packages/statsmodels/tsa/tsatools.py\u001b[0m in \u001b[0;36mlagmat\u001b[0;34m(x, maxlag, trim, original, use_pandas)\u001b[0m\n\u001b[1;32m    395\u001b[0m     \u001b[0;32mif\u001b[0m \u001b[0mxa\u001b[0m\u001b[0;34m.\u001b[0m\u001b[0mndim\u001b[0m \u001b[0;34m==\u001b[0m \u001b[0;36m1\u001b[0m\u001b[0;34m:\u001b[0m\u001b[0;34m\u001b[0m\u001b[0m\n\u001b[1;32m    396\u001b[0m         \u001b[0mxa\u001b[0m \u001b[0;34m=\u001b[0m \u001b[0mxa\u001b[0m\u001b[0;34m[\u001b[0m\u001b[0;34m:\u001b[0m\u001b[0;34m,\u001b[0m \u001b[0;32mNone\u001b[0m\u001b[0;34m]\u001b[0m\u001b[0;34m\u001b[0m\u001b[0m\n\u001b[0;32m--> 397\u001b[0;31m     \u001b[0mnobs\u001b[0m\u001b[0;34m,\u001b[0m \u001b[0mnvar\u001b[0m \u001b[0;34m=\u001b[0m \u001b[0mxa\u001b[0m\u001b[0;34m.\u001b[0m\u001b[0mshape\u001b[0m\u001b[0;34m\u001b[0m\u001b[0m\n\u001b[0m\u001b[1;32m    398\u001b[0m     \u001b[0;32mif\u001b[0m \u001b[0moriginal\u001b[0m \u001b[0;32min\u001b[0m \u001b[0;34m[\u001b[0m\u001b[0;34m'ex'\u001b[0m\u001b[0;34m,\u001b[0m \u001b[0;34m'sep'\u001b[0m\u001b[0;34m]\u001b[0m\u001b[0;34m:\u001b[0m\u001b[0;34m\u001b[0m\u001b[0m\n\u001b[1;32m    399\u001b[0m         \u001b[0mdropidx\u001b[0m \u001b[0;34m=\u001b[0m \u001b[0mnvar\u001b[0m\u001b[0;34m\u001b[0m\u001b[0m\n",
      "\u001b[0;31mValueError\u001b[0m: too many values to unpack (expected 2)"
     ]
    }
   ],
   "source": [
    "test_stationarity(dataframe)"
   ]
  },
  {
   "cell_type": "code",
   "execution_count": null,
   "metadata": {},
   "outputs": [],
   "source": [
    "#Estimating trend by taking log \n",
    "dataframe_logScale = np.log(dataframe)\n",
    "plt.plt(dataframe_logScale)"
   ]
  },
  {
   "cell_type": "code",
   "execution_count": 21,
   "metadata": {},
   "outputs": [],
   "source": [
    "#ACF and PACF plots \n",
    "lag_acf = acf(dataframeLogScale, nlags = 20)\n",
    "lag_pacf = pacf(dataframeLogScale, nlags = 20, method = 'ols')\n",
    "\n",
    "#Plot ACF \n",
    "plt.subplot(121)\n",
    "plt.plt(lag_acf)\n",
    "plt.axhline(y=0, linestyle = '--', color = 'gray')\n",
    "plt.axhline(y=1.96/np/sqr(len(dataframeLogScale)), linestyle = '--', color = 'gray')\n",
    "plt.title('Autocorrelation Function')\n",
    "\n",
    "#Plot PACF \n",
    "plt.subplot(122)\n",
    "plt.plt(lag_pacf)\n",
    "plt.axhline(y=0, linestyle = '--', color = 'gray')\n",
    "plt.axhline(y=1.96/np/sqr(len(dataframeLogScale)), linestyle = '--', color = 'gray')\n",
    "plt.title('Partial Autocorrelation Function')\n",
    "plt.tight_layout()"
   ]
  },
  {
   "cell_type": "code",
   "execution_count": null,
   "metadata": {},
   "outputs": [],
   "source": [
    "#Check for where ACF & PACF cross x axis the first time to find p + q"
   ]
  },
  {
   "cell_type": "markdown",
   "metadata": {},
   "source": [
    "# Step 5: ARIMA Modeling\n",
    "Be sure to validate your model.  Make a forecast for the future and describe the trend."
   ]
  },
  {
   "cell_type": "code",
   "execution_count": 77,
   "metadata": {},
   "outputs": [],
   "source": [
    "#ARIMA model \n",
    "\n",
    "# model = ARIMA(dataframe_logScale, order(p,d,q))\n",
    "# results_AR = model.fit(disp = -1)\n",
    "# plt.plot(results_AR.fittedvalues.color ='red')\n",
    "# plt.title('RSS:%4f%sum(results_AR.fittedcalues-datasetLogDiffShifting['values'])**2')\n",
    "# print('Plotting AR Model')"
   ]
  },
  {
   "cell_type": "code",
   "execution_count": 78,
   "metadata": {},
   "outputs": [],
   "source": [
    "#Predictions \n",
    "# predictions_ARIMA_diff = pd.Series(results_AR.fittedvalues, copy=True)\n",
    "# print(predictions_ARIMA-diff.head())"
   ]
  },
  {
   "cell_type": "code",
   "execution_count": null,
   "metadata": {},
   "outputs": [],
   "source": []
  },
  {
   "cell_type": "code",
   "execution_count": null,
   "metadata": {},
   "outputs": [],
   "source": []
  },
  {
   "cell_type": "markdown",
   "metadata": {},
   "source": [
    "# Step 6: Interpreting Results\n",
    "Give a detailed interpretation of results including the relationship between the inputs and output of the model."
   ]
  },
  {
   "cell_type": "code",
   "execution_count": null,
   "metadata": {},
   "outputs": [],
   "source": []
  },
  {
   "cell_type": "code",
   "execution_count": null,
   "metadata": {},
   "outputs": [],
   "source": []
  },
  {
   "cell_type": "code",
   "execution_count": null,
   "metadata": {},
   "outputs": [],
   "source": []
  }
 ],
 "metadata": {
  "kernelspec": {
   "display_name": "Python 3",
   "language": "python",
   "name": "python3"
  }
 },
 "nbformat": 4,
 "nbformat_minor": 2
}
