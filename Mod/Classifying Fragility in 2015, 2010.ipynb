{
 "cells": [
  {
   "cell_type": "code",
   "execution_count": 182,
   "metadata": {},
   "outputs": [],
   "source": [
    "import pandas as pd\n",
    "import numpy as np\n",
    "import warnings\n",
    "idx = pd.IndexSlice\n",
    "import matplotlib.pyplot as plt\n",
    "%matplotlib inline\n",
    "import seaborn as sns\n",
    "from sklearn.metrics import accuracy_score\n",
    "from sklearn.model_selection import GridSearchCV\n",
    "warnings.filterwarnings('ignore')"
   ]
  },
  {
   "cell_type": "code",
   "execution_count": 183,
   "metadata": {},
   "outputs": [],
   "source": [
    "import glob\n",
    "files = glob.glob(\"*.csv\")"
   ]
  },
  {
   "cell_type": "code",
   "execution_count": 184,
   "metadata": {},
   "outputs": [],
   "source": [
    "data = [pd.read_csv(file, encoding = 'ISO-8859-1', header=1) for file in files]"
   ]
  },
  {
   "cell_type": "code",
   "execution_count": 189,
   "metadata": {},
   "outputs": [],
   "source": [
    "data_1 = [pd.read_csv(file, encoding = 'ISO-8859-1', header=1) for file in files]"
   ]
  },
  {
   "cell_type": "code",
   "execution_count": 185,
   "metadata": {},
   "outputs": [],
   "source": [
    "# for df in data:\n",
    "#     if df.Column == 'Value':\n",
    "#         print('df')\n",
    "#     else:\n",
    "#         False"
   ]
  },
  {
   "cell_type": "code",
   "execution_count": 199,
   "metadata": {},
   "outputs": [],
   "source": [
    "all_2015 = []\n",
    "for df in data: \n",
    "    grouped = df.groupby(['Series'])\n",
    "    for feature in df.Series.unique():\n",
    "        frame = grouped.get_group(feature)\n",
    "        wide = frame[frame.Year == 2015].loc[:, idx['Series', 'Value', 'Unnamed: 1']]\n",
    "        wide.Value.replace(to_replace = ',', value= '_', regex = True, inplace = True) \n",
    "        wide.Value = wide.Value.astype(dtype = 'float64')\n",
    "        pivot = pd.pivot_table(wide, columns='Series', index='Unnamed: 1').Value.reset_index()\n",
    "        all_2015.append(pivot)"
   ]
  },
  {
   "cell_type": "code",
   "execution_count": 198,
   "metadata": {},
   "outputs": [],
   "source": [
    "all_2010 = []\n",
    "for df in data_1: \n",
    "    grouped = df.groupby(['Series'])\n",
    "    for feature in df.Series.unique():\n",
    "        frame = grouped.get_group(feature)\n",
    "        wide = frame[frame.Year == 2010].loc[:, idx['Series', 'Value', 'Unnamed: 1']]\n",
    "        wide.Value.replace(to_replace = ',', value= '_', regex = True, inplace = True) \n",
    "        wide.Value = wide.Value.astype(dtype = 'float64')\n",
    "        pivot = pd.pivot_table(wide, columns='Series', index='Unnamed: 1').Value.reset_index()\n",
    "        all_2010.append(pivot)"
   ]
  },
  {
   "cell_type": "code",
   "execution_count": 87,
   "metadata": {},
   "outputs": [],
   "source": [
    "fragile_index = pd.read_excel(r'/Users/bridget/Desktop/FragileIndex-2015.xlsx')\n",
    "fragile_target = fragile_index.loc[:, ['Country','Total']]"
   ]
  },
  {
   "cell_type": "code",
   "execution_count": 88,
   "metadata": {
    "scrolled": true
   },
   "outputs": [],
   "source": [
    "fragile_target.set_index('Country', inplace=True)\n",
    "fragile_target.rename({'United States':'United States of America', 'South Korea': \"Dem. People's Rep. Korea\",\n",
    "                      'Czech Republic': 'Czechia', 'Slovak Republic': 'Slovakia', 'North Korea': 'Republic of Korea', \n",
    "                      'Guinea Bissau': 'Guinea-Bissau', \"Cote d'Ivoire\": 'Cote Ivoire', \n",
    "                       'Congo Democratic Republic': 'Dem. Rep. of the Congo', 'Congo Republic': 'Congo', \n",
    "                       'Syria': 'Syrian Arab Republic', 'Israel and West Bank':'Israel'},inplace=True)"
   ]
  },
  {
   "cell_type": "code",
   "execution_count": 89,
   "metadata": {},
   "outputs": [],
   "source": [
    "fragile_target=fragile_target.unstack().reset_index().drop('level_0', axis=1)\n",
    "fragile_target.rename(columns={0:'Fragility'}, inplace=True )"
   ]
  },
  {
   "cell_type": "code",
   "execution_count": 8,
   "metadata": {
    "scrolled": true
   },
   "outputs": [
    {
     "data": {
      "text/html": [
       "<div>\n",
       "<style scoped>\n",
       "    .dataframe tbody tr th:only-of-type {\n",
       "        vertical-align: middle;\n",
       "    }\n",
       "\n",
       "    .dataframe tbody tr th {\n",
       "        vertical-align: top;\n",
       "    }\n",
       "\n",
       "    .dataframe thead th {\n",
       "        text-align: right;\n",
       "    }\n",
       "</style>\n",
       "<table border=\"1\" class=\"dataframe\">\n",
       "  <thead>\n",
       "    <tr style=\"text-align: right;\">\n",
       "      <th></th>\n",
       "      <th>Country</th>\n",
       "      <th>Fragility</th>\n",
       "    </tr>\n",
       "  </thead>\n",
       "  <tbody>\n",
       "    <tr>\n",
       "      <th>0</th>\n",
       "      <td>South Sudan</td>\n",
       "      <td>114.5</td>\n",
       "    </tr>\n",
       "    <tr>\n",
       "      <th>1</th>\n",
       "      <td>Somalia</td>\n",
       "      <td>114.0</td>\n",
       "    </tr>\n",
       "    <tr>\n",
       "      <th>2</th>\n",
       "      <td>Central African Republic</td>\n",
       "      <td>111.9</td>\n",
       "    </tr>\n",
       "    <tr>\n",
       "      <th>3</th>\n",
       "      <td>Sudan</td>\n",
       "      <td>110.8</td>\n",
       "    </tr>\n",
       "    <tr>\n",
       "      <th>4</th>\n",
       "      <td>Dem. Rep. of the Congo</td>\n",
       "      <td>109.7</td>\n",
       "    </tr>\n",
       "  </tbody>\n",
       "</table>\n",
       "</div>"
      ],
      "text/plain": [
       "                    Country  Fragility\n",
       "0               South Sudan      114.5\n",
       "1                   Somalia      114.0\n",
       "2  Central African Republic      111.9\n",
       "3                     Sudan      110.8\n",
       "4    Dem. Rep. of the Congo      109.7"
      ]
     },
     "execution_count": 8,
     "metadata": {},
     "output_type": "execute_result"
    }
   ],
   "source": [
    "fragile_target.head()"
   ]
  },
  {
   "cell_type": "code",
   "execution_count": 9,
   "metadata": {},
   "outputs": [
    {
     "data": {
      "text/plain": [
       "'Cote Ivoire'"
      ]
     },
     "execution_count": 9,
     "metadata": {},
     "output_type": "execute_result"
    }
   ],
   "source": [
    "fragile_target['Country'][14]"
   ]
  },
  {
   "cell_type": "code",
   "execution_count": 10,
   "metadata": {
    "scrolled": true
   },
   "outputs": [
    {
     "data": {
      "text/plain": [
       "178"
      ]
     },
     "execution_count": 10,
     "metadata": {},
     "output_type": "execute_result"
    }
   ],
   "source": [
    "len(fragile_target)"
   ]
  },
  {
   "cell_type": "code",
   "execution_count": 11,
   "metadata": {},
   "outputs": [],
   "source": [
    "for df_ in all_:\n",
    "    df_.rename(columns={'Unnamed: 1': 'Country'}, inplace = True)\n",
    "    df_[\"Country\"] = df_[\"Country\"].replace('Côte d\\x92Ivoire','Cote Ivoire',regex=True)\n",
    "for df_ in all_:\n",
    "    fragile_target = fragile_target.merge(df_, how='left', on='Country')"
   ]
  },
  {
   "cell_type": "code",
   "execution_count": 12,
   "metadata": {},
   "outputs": [
    {
     "data": {
      "text/plain": [
       "Country                                                                                                           0\n",
       "Fragility                                                                                                         0\n",
       "Consumer price index: General                                                                                    24\n",
       "Consumer price index: Food                                                                                       39\n",
       "GDP in current prices (millions of US dollars)                                                                   12\n",
       "GDP per capita (US dollars)                                                                                      12\n",
       "GDP in constant 2010 prices (millions of US dollars)                                                             12\n",
       "GDP real rates of growth (percent)                                                                               12\n",
       "Intentional homicide rates per 100,000                                                                           81\n",
       "Percentage of male and female intentional homicide victims, Male                                                 90\n",
       "Percentage of male and female intentional homicide victims, Female                                               90\n",
       "Assault rate per 100,000 population                                                                             113\n",
       "Theft at the national level, rate per 100,000 population                                                        112\n",
       "Robbery at the national level, rate per 100,000 population                                                      112\n",
       "Total Sexual Violence at the national level, rate per 100,000                                                   117\n",
       "Kidnapping at the national level, rate per 100,000                                                              116\n",
       "International migrant stock: Both sexes (number)                                                                 12\n",
       "International migrant stock: Both sexes (% total population)                                                     12\n",
       "International migrant stock: Male (% total Population)                                                           12\n",
       "International migrant stock: Female (% total Population)                                                         12\n",
       "Total refugees and people in refugee-like situations (number)                                                    29\n",
       "Asylum seekers, including pending cases (number)                                                                 34\n",
       "Other of concern to UNHCR (number)                                                                               76\n",
       "Total population of concern to UNHCR (number)                                                                    23\n",
       "Percentage of individuals using the internet                                                                     13\n",
       "Labour force participation - Total                                                                               16\n",
       "Unemployment rate - Total                                                                                        16\n",
       "Labour force participation - Male                                                                                16\n",
       "Unemployment rate - Male                                                                                         16\n",
       "Labour force participation - Female                                                                              16\n",
       "Unemployment rate - Female                                                                                       16\n",
       "Net official development assistance to developing countries and multilateral organizations (millions of US$)    132\n",
       "Net official development assistance to developing countries and multilateral organizations (as % of GNI)        135\n",
       "Population annual rate of increase (percent)                                                                     12\n",
       "Total fertility rate (children per women)                                                                        12\n",
       "Infant mortality for both sexes (per 1,000 live births)                                                          12\n",
       "Maternal mortality ratio (deaths per 100,000 population)                                                         15\n",
       "Life expectancy at birth for both sexes (years)                                                                  12\n",
       "Life expectancy at birth for males (years)                                                                       12\n",
       "Life expectancy at birth for females (years)                                                                     12\n",
       "Current expenditure other than staff compensation as % of total expenditure in public institutions (%)          135\n",
       "All staff compensation as % of total expenditure in public institutions (%)                                     135\n",
       "Capital expenditure as % of total expenditure in public institutions (%)                                        135\n",
       "Expenditure by level of education: primary (as % of government expenditure)                                     133\n",
       "Expenditure by level of education: secondary (as % of government expenditure)                                   132\n",
       "Expenditure by level of education: tertiary (as % of government expenditure)                                    130\n",
       "Public expenditure on education (% of government expenditure)                                                   128\n",
       "Public expenditure on education (% of GDP)                                                                      127\n",
       "Expenditure by level of education: pre-primary (as % of government expenditure)                                 140\n",
       "Seats held by women in national parliament, as of February (%)                                                   17\n",
       "dtype: int64"
      ]
     },
     "execution_count": 12,
     "metadata": {},
     "output_type": "execute_result"
    }
   ],
   "source": [
    "fragile_target.isna().sum()"
   ]
  },
  {
   "cell_type": "code",
   "execution_count": 13,
   "metadata": {},
   "outputs": [],
   "source": [
    "# un_predictors = fragile_target[['Country', 'Total', 'Consumer price index: Food', \n",
    "#                                    'Consumer price index: General', 'GDP per capita (US dollars)',\n",
    "#                                    'GDP real rates of growth (percent)',\n",
    "#                                    'Assault rate per 100,000 population',\n",
    "#                                    'Asylum seekers, including pending cases (number)',\n",
    "#                                    'Percentage of individuals using the internet',\n",
    "#                                     'Unemployment rate - Total',\n",
    "#                                     'Life expectancy at birth for both sexes (years)',\n",
    "#                                     'Population annual rate of increase (percent)',\n",
    "#                                     'Public expenditure on education (% of GDP)',\n",
    "#                                     'Seats held by women in national parliament, as of February (%)']]"
   ]
  },
  {
   "cell_type": "code",
   "execution_count": 14,
   "metadata": {},
   "outputs": [],
   "source": [
    "# some features like assault rate, public expenditure on education interested in have mostly nan values so must reselect \"\n",
    "# un_predictors"
   ]
  },
  {
   "cell_type": "code",
   "execution_count": 15,
   "metadata": {},
   "outputs": [],
   "source": [
    "un_predictors = fragile_target[['Country', 'Fragility', 'Consumer price index: Food', \n",
    "                                   'Consumer price index: General', 'GDP per capita (US dollars)',\n",
    "                                   'GDP real rates of growth (percent)',\n",
    "                                   'Intentional homicide rates per 100,000',\n",
    "                                   'Asylum seekers, including pending cases (number)',\n",
    "                                   'Percentage of individuals using the internet',\n",
    "                                    'Unemployment rate - Total',\n",
    "                                    'Life expectancy at birth for both sexes (years)',\n",
    "                                    'Population annual rate of increase (percent)',\n",
    "                                    'Public expenditure on education (% of government expenditure)',\n",
    "                                    'Seats held by women in national parliament, as of February (%)']]"
   ]
  },
  {
   "cell_type": "code",
   "execution_count": 16,
   "metadata": {},
   "outputs": [],
   "source": [
    "#un_predictors.isna().sum()\n",
    "# Country                                                             0\n",
    "# Total                                                               0\n",
    "# Consumer price index: Food                                         47\n",
    "# Consumer price index: General                                      34\n",
    "# GDP per capita (US dollars)                                        23\n",
    "# GDP real rates of growth (percent)                                 23\n",
    "# Intentional homicide rates per 100,000                             89\n",
    "# Asylum seekers, including pending cases (number)                   44\n",
    "# Percentage of individuals using the internet                       24\n",
    "# Unemployment rate - Total                                          27\n",
    "# Life expectancy at birth for both sexes (years)                    22\n",
    "# Population annual rate of increase (percent)                       22\n",
    "# Public expenditure on education (% of government expenditure)     133\n",
    "# Seats held by women in national parliament, as of February (%)     27\n",
    "# dtype: int64"
   ]
  },
  {
   "cell_type": "code",
   "execution_count": 17,
   "metadata": {},
   "outputs": [
    {
     "data": {
      "text/plain": [
       "Country                                                             0\n",
       "Fragility                                                           0\n",
       "Consumer price index: Food                                         39\n",
       "Consumer price index: General                                      24\n",
       "GDP per capita (US dollars)                                        12\n",
       "GDP real rates of growth (percent)                                 12\n",
       "Intentional homicide rates per 100,000                             81\n",
       "Asylum seekers, including pending cases (number)                   34\n",
       "Percentage of individuals using the internet                       13\n",
       "Unemployment rate - Total                                          16\n",
       "Life expectancy at birth for both sexes (years)                    12\n",
       "Population annual rate of increase (percent)                       12\n",
       "Public expenditure on education (% of government expenditure)     128\n",
       "Seats held by women in national parliament, as of February (%)     17\n",
       "dtype: int64"
      ]
     },
     "execution_count": 17,
     "metadata": {},
     "output_type": "execute_result"
    }
   ],
   "source": [
    "un_predictors.isna().sum()"
   ]
  },
  {
   "cell_type": "code",
   "execution_count": 18,
   "metadata": {},
   "outputs": [],
   "source": [
    "#all_[1]['Country'][41]\n",
    "un_predictors.drop(columns=['Public expenditure on education (% of government expenditure)','Intentional homicide rates per 100,000', 'Consumer price index: Food'], axis=1, inplace = True)"
   ]
  },
  {
   "cell_type": "code",
   "execution_count": 19,
   "metadata": {},
   "outputs": [
    {
     "data": {
      "text/plain": [
       "Country                                                            0\n",
       "Fragility                                                          0\n",
       "Consumer price index: General                                     24\n",
       "GDP per capita (US dollars)                                       12\n",
       "GDP real rates of growth (percent)                                12\n",
       "Asylum seekers, including pending cases (number)                  34\n",
       "Percentage of individuals using the internet                      13\n",
       "Unemployment rate - Total                                         16\n",
       "Life expectancy at birth for both sexes (years)                   12\n",
       "Population annual rate of increase (percent)                      12\n",
       "Seats held by women in national parliament, as of February (%)    17\n",
       "dtype: int64"
      ]
     },
     "execution_count": 19,
     "metadata": {},
     "output_type": "execute_result"
    }
   ],
   "source": [
    "un_predictors.isna().sum()"
   ]
  },
  {
   "cell_type": "code",
   "execution_count": 20,
   "metadata": {},
   "outputs": [],
   "source": [
    "model_data=un_predictors.drop('Country', 1)"
   ]
  },
  {
   "cell_type": "code",
   "execution_count": 200,
   "metadata": {},
   "outputs": [],
   "source": [
    "target = model_data['Fragility']\n",
    "predictors = model_data.drop('Fragility', 1)\n",
    "predictors = predictors.apply(lambda x: x.fillna(x.median()),axis=0)"
   ]
  },
  {
   "cell_type": "markdown",
   "metadata": {},
   "source": [
    "# EDA"
   ]
  },
  {
   "cell_type": "code",
   "execution_count": 201,
   "metadata": {},
   "outputs": [
    {
     "data": {
      "text/html": [
       "<div>\n",
       "<style scoped>\n",
       "    .dataframe tbody tr th:only-of-type {\n",
       "        vertical-align: middle;\n",
       "    }\n",
       "\n",
       "    .dataframe tbody tr th {\n",
       "        vertical-align: top;\n",
       "    }\n",
       "\n",
       "    .dataframe thead th {\n",
       "        text-align: right;\n",
       "    }\n",
       "</style>\n",
       "<table border=\"1\" class=\"dataframe\">\n",
       "  <thead>\n",
       "    <tr style=\"text-align: right;\">\n",
       "      <th></th>\n",
       "      <th>Consumer price index: General</th>\n",
       "      <th>GDP per capita (US dollars)</th>\n",
       "      <th>GDP real rates of growth (percent)</th>\n",
       "      <th>Asylum seekers, including pending cases (number)</th>\n",
       "      <th>Percentage of individuals using the internet</th>\n",
       "      <th>Unemployment rate - Total</th>\n",
       "      <th>Life expectancy at birth for both sexes (years)</th>\n",
       "      <th>Population annual rate of increase (percent)</th>\n",
       "      <th>Seats held by women in national parliament, as of February (%)</th>\n",
       "    </tr>\n",
       "  </thead>\n",
       "  <tbody>\n",
       "    <tr>\n",
       "      <th>count</th>\n",
       "      <td>178.000000</td>\n",
       "      <td>178.000000</td>\n",
       "      <td>178.000000</td>\n",
       "      <td>178.000000</td>\n",
       "      <td>178.000000</td>\n",
       "      <td>178.000000</td>\n",
       "      <td>178.000000</td>\n",
       "      <td>178.000000</td>\n",
       "      <td>178.000000</td>\n",
       "    </tr>\n",
       "    <tr>\n",
       "      <th>mean</th>\n",
       "      <td>128.182022</td>\n",
       "      <td>12499.016854</td>\n",
       "      <td>2.777528</td>\n",
       "      <td>13238.657303</td>\n",
       "      <td>46.280337</td>\n",
       "      <td>7.544944</td>\n",
       "      <td>70.905056</td>\n",
       "      <td>1.483708</td>\n",
       "      <td>20.902739</td>\n",
       "    </tr>\n",
       "    <tr>\n",
       "      <th>std</th>\n",
       "      <td>43.928858</td>\n",
       "      <td>17560.895773</td>\n",
       "      <td>6.084676</td>\n",
       "      <td>67166.714771</td>\n",
       "      <td>27.859837</td>\n",
       "      <td>5.326026</td>\n",
       "      <td>8.139867</td>\n",
       "      <td>1.365728</td>\n",
       "      <td>11.080612</td>\n",
       "    </tr>\n",
       "    <tr>\n",
       "      <th>min</th>\n",
       "      <td>98.200000</td>\n",
       "      <td>105.000000</td>\n",
       "      <td>-45.500000</td>\n",
       "      <td>1.000000</td>\n",
       "      <td>0.000000</td>\n",
       "      <td>0.200000</td>\n",
       "      <td>49.400000</td>\n",
       "      <td>-2.300000</td>\n",
       "      <td>0.000000</td>\n",
       "    </tr>\n",
       "    <tr>\n",
       "      <th>25%</th>\n",
       "      <td>109.225000</td>\n",
       "      <td>1669.750000</td>\n",
       "      <td>2.000000</td>\n",
       "      <td>157.750000</td>\n",
       "      <td>21.400000</td>\n",
       "      <td>4.400000</td>\n",
       "      <td>65.250000</td>\n",
       "      <td>0.500000</td>\n",
       "      <td>12.950000</td>\n",
       "    </tr>\n",
       "    <tr>\n",
       "      <th>50%</th>\n",
       "      <td>116.400000</td>\n",
       "      <td>4945.000000</td>\n",
       "      <td>3.250000</td>\n",
       "      <td>677.000000</td>\n",
       "      <td>47.600000</td>\n",
       "      <td>6.150000</td>\n",
       "      <td>72.900000</td>\n",
       "      <td>1.400000</td>\n",
       "      <td>19.700000</td>\n",
       "    </tr>\n",
       "    <tr>\n",
       "      <th>75%</th>\n",
       "      <td>130.250000</td>\n",
       "      <td>14561.250000</td>\n",
       "      <td>4.800000</td>\n",
       "      <td>5036.250000</td>\n",
       "      <td>70.600000</td>\n",
       "      <td>9.400000</td>\n",
       "      <td>76.400000</td>\n",
       "      <td>2.275000</td>\n",
       "      <td>27.275000</td>\n",
       "    </tr>\n",
       "    <tr>\n",
       "      <th>max</th>\n",
       "      <td>448.800000</td>\n",
       "      <td>100936.000000</td>\n",
       "      <td>25.800000</td>\n",
       "      <td>798080.000000</td>\n",
       "      <td>98.200000</td>\n",
       "      <td>27.700000</td>\n",
       "      <td>83.300000</td>\n",
       "      <td>6.600000</td>\n",
       "      <td>63.800000</td>\n",
       "    </tr>\n",
       "  </tbody>\n",
       "</table>\n",
       "</div>"
      ],
      "text/plain": [
       "       Consumer price index: General  GDP per capita (US dollars)  \\\n",
       "count                     178.000000                   178.000000   \n",
       "mean                      128.182022                 12499.016854   \n",
       "std                        43.928858                 17560.895773   \n",
       "min                        98.200000                   105.000000   \n",
       "25%                       109.225000                  1669.750000   \n",
       "50%                       116.400000                  4945.000000   \n",
       "75%                       130.250000                 14561.250000   \n",
       "max                       448.800000                100936.000000   \n",
       "\n",
       "       GDP real rates of growth (percent)  \\\n",
       "count                          178.000000   \n",
       "mean                             2.777528   \n",
       "std                              6.084676   \n",
       "min                            -45.500000   \n",
       "25%                              2.000000   \n",
       "50%                              3.250000   \n",
       "75%                              4.800000   \n",
       "max                             25.800000   \n",
       "\n",
       "       Asylum seekers, including pending cases (number)  \\\n",
       "count                                        178.000000   \n",
       "mean                                       13238.657303   \n",
       "std                                        67166.714771   \n",
       "min                                            1.000000   \n",
       "25%                                          157.750000   \n",
       "50%                                          677.000000   \n",
       "75%                                         5036.250000   \n",
       "max                                       798080.000000   \n",
       "\n",
       "       Percentage of individuals using the internet  \\\n",
       "count                                    178.000000   \n",
       "mean                                      46.280337   \n",
       "std                                       27.859837   \n",
       "min                                        0.000000   \n",
       "25%                                       21.400000   \n",
       "50%                                       47.600000   \n",
       "75%                                       70.600000   \n",
       "max                                       98.200000   \n",
       "\n",
       "       Unemployment rate - Total  \\\n",
       "count                 178.000000   \n",
       "mean                    7.544944   \n",
       "std                     5.326026   \n",
       "min                     0.200000   \n",
       "25%                     4.400000   \n",
       "50%                     6.150000   \n",
       "75%                     9.400000   \n",
       "max                    27.700000   \n",
       "\n",
       "       Life expectancy at birth for both sexes (years)  \\\n",
       "count                                       178.000000   \n",
       "mean                                         70.905056   \n",
       "std                                           8.139867   \n",
       "min                                          49.400000   \n",
       "25%                                          65.250000   \n",
       "50%                                          72.900000   \n",
       "75%                                          76.400000   \n",
       "max                                          83.300000   \n",
       "\n",
       "       Population annual rate of increase (percent)  \\\n",
       "count                                    178.000000   \n",
       "mean                                       1.483708   \n",
       "std                                        1.365728   \n",
       "min                                       -2.300000   \n",
       "25%                                        0.500000   \n",
       "50%                                        1.400000   \n",
       "75%                                        2.275000   \n",
       "max                                        6.600000   \n",
       "\n",
       "       Seats held by women in national parliament, as of February (%)  \n",
       "count                                         178.000000               \n",
       "mean                                           20.902739               \n",
       "std                                            11.080612               \n",
       "min                                             0.000000               \n",
       "25%                                            12.950000               \n",
       "50%                                            19.700000               \n",
       "75%                                            27.275000               \n",
       "max                                            63.800000               "
      ]
     },
     "execution_count": 201,
     "metadata": {},
     "output_type": "execute_result"
    }
   ],
   "source": [
    "predictors.describe()"
   ]
  },
  {
   "cell_type": "code",
   "execution_count": 202,
   "metadata": {},
   "outputs": [
    {
     "data": {
      "image/png": "[encoded data removed]",
      "text/plain": [
       "<Figure size 1440x1440 with 1 Axes>"
      ]
     },
     "metadata": {
      "needs_background": "light"
     },
     "output_type": "display_data"
    }
   ],
   "source": [
    "plt.figure(figsize=(20, 20))\n",
    "plt.boxplot([predictors[col] for col in predictors.columns])\n",
    "plt.title(\"Box Whisker Plot of Each Predictor in Dataset\")\n",
    "plt.xticks(range(len(predictors.columns.values)), predictors.columns.values)\n",
    "plt.show()"
   ]
  },
  {
   "cell_type": "code",
   "execution_count": 203,
   "metadata": {},
   "outputs": [],
   "source": [
    "# from pandas.tools.plotting import scatter_matrix\n",
    "# from matplotlib import cm\n",
    "# feature_names = ['mass', 'width', 'height', 'color_score']\n",
    "# X = fruits[feature_names]\n",
    "# y = fruits['fruit_label']\n",
    "# cmap = cm.get_cmap('gnuplot')\n",
    "# scatter = pd.scatter_matrix(X, c = y, marker = 'o', s=40, hist_kwds={'bins':15}, figsize=(9,9), cmap = cmap)\n",
    "# plt.suptitle('Scatter-matrix for each input variable')\n",
    "# plt.savefig('fruits_scatter_matrix')"
   ]
  },
  {
   "cell_type": "code",
   "execution_count": 204,
   "metadata": {},
   "outputs": [],
   "source": [
    "target = pd.cut(target, bins=[0, 29, 59, 89, 120],\n",
    "                     labels =[0, 1, 2, 3])"
   ]
  },
  {
   "cell_type": "code",
   "execution_count": 205,
   "metadata": {},
   "outputs": [
    {
     "data": {
      "text/plain": [
       "<matplotlib.axes._subplots.AxesSubplot at 0x1a269ecf60>"
      ]
     },
     "execution_count": 205,
     "metadata": {},
     "output_type": "execute_result"
    },
    {
     "data": {
      "image/png": "[encoded data removed]",
      "text/plain": [
       "<Figure size 432x288 with 1 Axes>"
      ]
     },
     "metadata": {
      "needs_background": "light"
     },
     "output_type": "display_data"
    }
   ],
   "source": [
    "sns.distplot(target)"
   ]
  },
  {
   "cell_type": "code",
   "execution_count": 206,
   "metadata": {},
   "outputs": [],
   "source": [
    "from sklearn.model_selection import train_test_split\n",
    "from sklearn.preprocessing import MinMaxScaler\n",
    "\n",
    "X_train, X_test, y_train, y_test = train_test_split(predictors, target, random_state=0)\n",
    "scaler = MinMaxScaler()\n",
    "X_train = scaler.fit_transform(X_train)    \n",
    "X_test = scaler.transform(X_test)"
   ]
  },
  {
   "cell_type": "markdown",
   "metadata": {},
   "source": [
    "# Dummy Classifier "
   ]
  },
  {
   "cell_type": "code",
   "execution_count": 29,
   "metadata": {},
   "outputs": [
    {
     "name": "stdout",
     "output_type": "stream",
     "text": [
      "Actual Fragility :  \n",
      "2    25\n",
      "3    10\n",
      "1     7\n",
      "0     3\n",
      "Name: Fragility, dtype: int64\n",
      "Baseline Predicted Fragility : \n",
      "2    45\n",
      "dtype: int64\n"
     ]
    }
   ],
   "source": [
    "#Baseline Performance \n",
    "from sklearn.dummy import DummyClassifier\n",
    "dum_clf = DummyClassifier(strategy= 'most_frequent').fit(X_train, y_train)\n",
    "y_pred = dum_clf.predict(X_test)\n",
    "\n",
    "print('Actual Fragility :  \\n'+ str(y_test.value_counts()))\n",
    "print('Baseline Predicted Fragility : \\n' + str(pd.Series(y_pred).value_counts()))"
   ]
  },
  {
   "cell_type": "markdown",
   "metadata": {},
   "source": [
    "# **Logistic Regression**"
   ]
  },
  {
   "cell_type": "code",
   "execution_count": 30,
   "metadata": {
    "scrolled": true
   },
   "outputs": [
    {
     "name": "stdout",
     "output_type": "stream",
     "text": [
      "Accuracy of Logistic regression classifier on test set: 0.67\n",
      "Accuracy of Logistic regression classifier on training set: 0.62\n"
     ]
    }
   ],
   "source": [
    "from sklearn.linear_model import LogisticRegression\n",
    "logreg = LogisticRegression()\n",
    "logreg.fit(X_train, y_train)\n",
    "print('Accuracy of Logistic regression classifier on test set: {:.2f}'\n",
    "     .format(logreg.score(X_test, y_test)))\n",
    "print('Accuracy of Logistic regression classifier on training set: {:.2f}'\n",
    "     .format(logreg.score(X_train, y_train)))"
   ]
  },
  {
   "cell_type": "code",
   "execution_count": 31,
   "metadata": {},
   "outputs": [
    {
     "name": "stdout",
     "output_type": "stream",
     "text": [
      "Mean Cross Validation Score: 53.39%\n"
     ]
    }
   ],
   "source": [
    "from sklearn.model_selection import cross_val_score\n",
    "\n",
    "logreg_cv_score = cross_val_score(logreg, X_train, y_train, cv=3)\n",
    "mean_dt_cv_score = np.mean(logreg_cv_score)\n",
    "\n",
    "print(\"Mean Cross Validation Score: {:.4}%\".format(mean_dt_cv_score * 100))"
   ]
  },
  {
   "cell_type": "code",
   "execution_count": 32,
   "metadata": {},
   "outputs": [],
   "source": [
    "# Evaluation"
   ]
  },
  {
   "cell_type": "code",
   "execution_count": 40,
   "metadata": {
    "scrolled": true
   },
   "outputs": [
    {
     "name": "stdout",
     "output_type": "stream",
     "text": [
      "Confusion Matrix : \n",
      "[[ 0  3  0  0]\n",
      " [ 0  1  6  0]\n",
      " [ 0  0 24  1]\n",
      " [ 0  0  5  5]]\n"
     ]
    }
   ],
   "source": [
    "from sklearn.metrics import confusion_matrix\n",
    "log_pred = logreg.predict(X_test)\n",
    "print('Confusion Matrix : \\n' + str(confusion_matrix(y_test,log_pred)))"
   ]
  },
  {
   "cell_type": "code",
   "execution_count": 36,
   "metadata": {},
   "outputs": [
    {
     "name": "stdout",
     "output_type": "stream",
     "text": [
      "              precision    recall  f1-score   support\n",
      "\n",
      "           0       0.00      0.00      0.00         3\n",
      "           1       0.25      0.14      0.18         7\n",
      "           2       0.69      0.96      0.80        25\n",
      "           3       0.83      0.50      0.62        10\n",
      "\n",
      "    accuracy                           0.67        45\n",
      "   macro avg       0.44      0.40      0.40        45\n",
      "weighted avg       0.61      0.67      0.61        45\n",
      "\n"
     ]
    }
   ],
   "source": [
    "from sklearn.metrics import classification_report\n",
    "print(classification_report(y_test,log_pred))"
   ]
  },
  {
   "cell_type": "code",
   "execution_count": 306,
   "metadata": {},
   "outputs": [],
   "source": [
    "from sklearn.model_selection import GridSearchCV"
   ]
  },
  {
   "cell_type": "markdown",
   "metadata": {},
   "source": [
    "# Decision Tree"
   ]
  },
  {
   "cell_type": "code",
   "execution_count": 210,
   "metadata": {},
   "outputs": [
    {
     "name": "stdout",
     "output_type": "stream",
     "text": [
      "Accuracy of Decision Tree classifier on test set: 0.51\n",
      "Accuracy of Decision Tree classifier on training set: 1.00\n"
     ]
    }
   ],
   "source": [
    "from sklearn.tree import DecisionTreeClassifier\n",
    "clf = DecisionTreeClassifier().fit(X_train, y_train)\n",
    "print('Accuracy of Decision Tree classifier on test set: {:.2f}'\n",
    "     .format(clf.score(X_test, y_test)))\n",
    "print('Accuracy of Decision Tree classifier on training set: {:.2f}'\n",
    "     .format(clf.score(X_train, y_train)))"
   ]
  },
  {
   "cell_type": "code",
   "execution_count": 212,
   "metadata": {},
   "outputs": [
    {
     "name": "stdout",
     "output_type": "stream",
     "text": [
      "Mean Cross Validation Score: 66.81%\n"
     ]
    }
   ],
   "source": [
    "dclf_cv_score = cross_val_score(clf, X_train, y_train, cv=3)\n",
    "mean_dt_cv_score = np.mean(dclf_cv_score)\n",
    "\n",
    "print(\"Mean Cross Validation Score: {:.4}%\".format(mean_dt_cv_score * 100))"
   ]
  },
  {
   "cell_type": "code",
   "execution_count": 308,
   "metadata": {},
   "outputs": [],
   "source": [
    "clf_pred = clf.predict(X_test)"
   ]
  },
  {
   "cell_type": "code",
   "execution_count": 309,
   "metadata": {},
   "outputs": [
    {
     "name": "stdout",
     "output_type": "stream",
     "text": [
      "              precision    recall  f1-score   support\n",
      "\n",
      "           0       0.00      0.00      0.00         3\n",
      "           1       0.00      0.00      0.00         7\n",
      "           2       0.56      1.00      0.71        25\n",
      "           3       0.00      0.00      0.00        10\n",
      "\n",
      "    accuracy                           0.56        45\n",
      "   macro avg       0.14      0.25      0.18        45\n",
      "weighted avg       0.31      0.56      0.40        45\n",
      "\n"
     ]
    }
   ],
   "source": [
    "print(classification_report(y_test, clf_pred))"
   ]
  },
  {
   "cell_type": "markdown",
   "metadata": {},
   "source": [
    "# K-Nearest Neighbors "
   ]
  },
  {
   "cell_type": "code",
   "execution_count": 165,
   "metadata": {},
   "outputs": [
    {
     "name": "stdout",
     "output_type": "stream",
     "text": [
      "Accuracy of K-NN classifier on test set: 0.78\n",
      "Accuracy of K-NN classifier on training set: 0.77\n"
     ]
    }
   ],
   "source": [
    "from sklearn.neighbors import KNeighborsClassifier\n",
    "knn = KNeighborsClassifier()\n",
    "knn.fit(X_train, y_train)\n",
    "print('Accuracy of K-NN classifier on test set: {:.2f}'\n",
    "     .format(knn.score(X_test, y_test)))\n",
    "print('Accuracy of K-NN classifier on training set: {:.2f}'\n",
    "     .format(knn.score(X_train, y_train)))"
   ]
  },
  {
   "cell_type": "code",
   "execution_count": 213,
   "metadata": {},
   "outputs": [
    {
     "name": "stdout",
     "output_type": "stream",
     "text": [
      "Mean Cross Validation Score: 69.84%\n"
     ]
    }
   ],
   "source": [
    "knn_cv_score = cross_val_score(knn, X_train, y_train, cv=3)\n",
    "mean_dt_cv_score = np.mean(knn_cv_score)\n",
    "\n",
    "print(\"Mean Cross Validation Score: {:.4}%\".format(mean_dt_cv_score * 100))"
   ]
  },
  {
   "cell_type": "code",
   "execution_count": 313,
   "metadata": {},
   "outputs": [
    {
     "name": "stdout",
     "output_type": "stream",
     "text": [
      "              precision    recall  f1-score   support\n",
      "\n",
      "           0       0.75      1.00      0.86         3\n",
      "           1       0.67      0.86      0.75         7\n",
      "           2       0.83      0.80      0.82        25\n",
      "           3       0.75      0.60      0.67        10\n",
      "\n",
      "    accuracy                           0.78        45\n",
      "   macro avg       0.75      0.81      0.77        45\n",
      "weighted avg       0.78      0.78      0.78        45\n",
      "\n"
     ]
    }
   ],
   "source": [
    "knn_pred = knn.predict(X_test)\n",
    "print(classification_report(y_test,knn_pred))"
   ]
  },
  {
   "cell_type": "code",
   "execution_count": null,
   "metadata": {},
   "outputs": [],
   "source": [
    "dt_param_grid = {\n",
    "    'criterion': ['gini', 'entropy'],\n",
    "    'max_depth': [None, 2, 3, 4, 5, 6],\n",
    "    'min_samples_split': [2, 5, 10],\n",
    "    'min_samples_leaf': [1, 2, 3, 4, 5, 6]\n",
    "}"
   ]
  },
  {
   "cell_type": "markdown",
   "metadata": {},
   "source": [
    "# Linear Discriminant Analysis  "
   ]
  },
  {
   "cell_type": "code",
   "execution_count": 166,
   "metadata": {},
   "outputs": [
    {
     "name": "stdout",
     "output_type": "stream",
     "text": [
      "Accuracy of LDA classifier on test set: 0.71\n",
      "Accuracy of LDA classifier on training set: 0.74\n"
     ]
    }
   ],
   "source": [
    "from sklearn.discriminant_analysis import LinearDiscriminantAnalysis\n",
    "lda = LinearDiscriminantAnalysis()\n",
    "lda.fit(X_train, y_train)\n",
    "print('Accuracy of LDA classifier on test set: {:.2f}'\n",
    "     .format(lda.score(X_test, y_test)))\n",
    "print('Accuracy of LDA classifier on training set: {:.2f}'\n",
    "     .format(lda.score(X_train, y_train)))"
   ]
  },
  {
   "cell_type": "code",
   "execution_count": 214,
   "metadata": {},
   "outputs": [
    {
     "name": "stdout",
     "output_type": "stream",
     "text": [
      "Mean Cross Validation Score: 66.11%\n"
     ]
    }
   ],
   "source": [
    "lda_cv_score = cross_val_score(lda, X_train, y_train, cv=3)\n",
    "mean_dt_cv_score = np.mean(lda_cv_score)\n",
    "\n",
    "print(\"Mean Cross Validation Score: {:.4}%\".format(mean_dt_cv_score * 100))"
   ]
  },
  {
   "cell_type": "code",
   "execution_count": 314,
   "metadata": {},
   "outputs": [
    {
     "name": "stdout",
     "output_type": "stream",
     "text": [
      "              precision    recall  f1-score   support\n",
      "\n",
      "           0       1.00      0.67      0.80         3\n",
      "           1       0.71      0.71      0.71         7\n",
      "           2       0.76      0.76      0.76        25\n",
      "           3       0.55      0.60      0.57        10\n",
      "\n",
      "    accuracy                           0.71        45\n",
      "   macro avg       0.75      0.69      0.71        45\n",
      "weighted avg       0.72      0.71      0.71        45\n",
      "\n"
     ]
    }
   ],
   "source": [
    "lda_pred = lda.predict(X_test)\n",
    "print(classification_report(y_test, lda_pred))"
   ]
  },
  {
   "cell_type": "markdown",
   "metadata": {},
   "source": [
    "# Random Forest "
   ]
  },
  {
   "cell_type": "code",
   "execution_count": 167,
   "metadata": {},
   "outputs": [
    {
     "name": "stdout",
     "output_type": "stream",
     "text": [
      "Accuracy of Random Forest classifier on test set: 0.67\n",
      "Accuracy of Random Forest classifier on training set: 0.98\n"
     ]
    }
   ],
   "source": [
    "from sklearn.ensemble import RandomForestClassifier\n",
    "forest = RandomForestClassifier(n_estimators=100, max_depth= 5)\n",
    "forest.fit(X_train, y_train)\n",
    "print('Accuracy of Random Forest classifier on test set: {:.2f}'\n",
    "     .format(forest.score(X_test, y_test)))\n",
    "print('Accuracy of Random Forest classifier on training set: {:.2f}'\n",
    "     .format(forest.score(X_train, y_train)))"
   ]
  },
  {
   "cell_type": "code",
   "execution_count": 171,
   "metadata": {},
   "outputs": [],
   "source": [
    "def plot_feature_importances(model):\n",
    "    n_features = X_train.shape[1]\n",
    "    plt.figure(figsize=(8,8))\n",
    "    plt.barh(range(n_features), model.feature_importances_, align='center') \n",
    "    plt.yticks(np.arange(n_features), X_train.columns.values) \n",
    "    plt.xlabel(\"Feature importance\")\n",
    "    plt.ylabel(\"Feature\")"
   ]
  },
  {
   "cell_type": "code",
   "execution_count": 319,
   "metadata": {},
   "outputs": [
    {
     "ename": "AttributeError",
     "evalue": "'numpy.ndarray' object has no attribute 'columns'",
     "output_type": "error",
     "traceback": [
      "\u001b[0;31m---------------------------------------------------------------------------\u001b[0m",
      "\u001b[0;31mAttributeError\u001b[0m                            Traceback (most recent call last)",
      "\u001b[0;32m<ipython-input-319-04a9dcfa5672>\u001b[0m in \u001b[0;36m<module>\u001b[0;34m()\u001b[0m\n\u001b[1;32m      2\u001b[0m \u001b[0mplt\u001b[0m\u001b[0;34m.\u001b[0m\u001b[0mfigure\u001b[0m\u001b[0;34m(\u001b[0m\u001b[0mfigsize\u001b[0m\u001b[0;34m=\u001b[0m\u001b[0;34m(\u001b[0m\u001b[0;36m8\u001b[0m\u001b[0;34m,\u001b[0m\u001b[0;36m8\u001b[0m\u001b[0;34m)\u001b[0m\u001b[0;34m)\u001b[0m\u001b[0;34m\u001b[0m\u001b[0m\n\u001b[1;32m      3\u001b[0m \u001b[0mplt\u001b[0m\u001b[0;34m.\u001b[0m\u001b[0mbarh\u001b[0m\u001b[0;34m(\u001b[0m\u001b[0mrange\u001b[0m\u001b[0;34m(\u001b[0m\u001b[0mn_features\u001b[0m\u001b[0;34m)\u001b[0m\u001b[0;34m,\u001b[0m \u001b[0mforest\u001b[0m\u001b[0;34m.\u001b[0m\u001b[0mfeature_importances_\u001b[0m\u001b[0;34m,\u001b[0m \u001b[0malign\u001b[0m\u001b[0;34m=\u001b[0m\u001b[0;34m'center'\u001b[0m\u001b[0;34m)\u001b[0m\u001b[0;34m\u001b[0m\u001b[0m\n\u001b[0;32m----> 4\u001b[0;31m \u001b[0mplt\u001b[0m\u001b[0;34m.\u001b[0m\u001b[0myticks\u001b[0m\u001b[0;34m(\u001b[0m\u001b[0mnp\u001b[0m\u001b[0;34m.\u001b[0m\u001b[0marange\u001b[0m\u001b[0;34m(\u001b[0m\u001b[0mn_features\u001b[0m\u001b[0;34m)\u001b[0m\u001b[0;34m,\u001b[0m \u001b[0mX_train\u001b[0m\u001b[0;34m.\u001b[0m\u001b[0mcolumns\u001b[0m\u001b[0;34m.\u001b[0m\u001b[0mvalues\u001b[0m\u001b[0;34m)\u001b[0m\u001b[0;34m\u001b[0m\u001b[0m\n\u001b[0m\u001b[1;32m      5\u001b[0m \u001b[0mplt\u001b[0m\u001b[0;34m.\u001b[0m\u001b[0mxlabel\u001b[0m\u001b[0;34m(\u001b[0m\u001b[0;34m\"Feature Importance\"\u001b[0m\u001b[0;34m)\u001b[0m\u001b[0;34m\u001b[0m\u001b[0m\n\u001b[1;32m      6\u001b[0m \u001b[0mplt\u001b[0m\u001b[0;34m.\u001b[0m\u001b[0mylabel\u001b[0m\u001b[0;34m(\u001b[0m\u001b[0;34m\"Feature\"\u001b[0m\u001b[0;34m)\u001b[0m\u001b[0;34m\u001b[0m\u001b[0m\n",
      "\u001b[0;31mAttributeError\u001b[0m: 'numpy.ndarray' object has no attribute 'columns'"
     ]
    },
    {
     "data": {
      "image/png": "[encoded data removed]",
      "text/plain": [
       "<Figure size 576x576 with 1 Axes>"
      ]
     },
     "metadata": {
      "needs_background": "light"
     },
     "output_type": "display_data"
    }
   ],
   "source": [
    "n_features = X_train.shape[1]\n",
    "plt.figure(figsize=(8,8))\n",
    "plt.barh(range(n_features), forest.feature_importances_, align='center') \n",
    "plt.yticks(np.arange(n_features), X_train.columns.values) \n",
    "plt.xlabel(\"Feature Importance\")\n",
    "plt.ylabel(\"Feature\")"
   ]
  },
  {
   "cell_type": "code",
   "execution_count": 172,
   "metadata": {},
   "outputs": [
    {
     "data": {
      "text/plain": [
       "array([0.06255767, 0.25709179, 0.04091498, 0.04462222, 0.21479409,\n",
       "       0.04560167, 0.16930005, 0.08980831, 0.07530921])"
      ]
     },
     "execution_count": 172,
     "metadata": {},
     "output_type": "execute_result"
    }
   ],
   "source": [
    "forest.feature_importances_"
   ]
  },
  {
   "cell_type": "code",
   "execution_count": 215,
   "metadata": {},
   "outputs": [
    {
     "name": "stdout",
     "output_type": "stream",
     "text": [
      "Mean Cross Validation Score: 71.52%\n"
     ]
    }
   ],
   "source": [
    "forest_cv_score = cross_val_score(forest, X_train, y_train, cv=3)\n",
    "mean_dt_cv_score = np.mean(forest_cv_score)\n",
    "\n",
    "print(\"Mean Cross Validation Score: {:.4}%\".format(mean_dt_cv_score * 100))"
   ]
  },
  {
   "cell_type": "code",
   "execution_count": 315,
   "metadata": {},
   "outputs": [
    {
     "name": "stdout",
     "output_type": "stream",
     "text": [
      "              precision    recall  f1-score   support\n",
      "\n",
      "           0       0.50      0.33      0.40         3\n",
      "           1       0.50      0.57      0.53         7\n",
      "           2       0.74      0.80      0.77        25\n",
      "           3       0.62      0.50      0.56        10\n",
      "\n",
      "    accuracy                           0.67        45\n",
      "   macro avg       0.59      0.55      0.56        45\n",
      "weighted avg       0.66      0.67      0.66        45\n",
      "\n"
     ]
    }
   ],
   "source": [
    "forest_pred = forest.predict(X_test)\n",
    "print(classification_report(y_test, forest_pred))"
   ]
  },
  {
   "cell_type": "code",
   "execution_count": null,
   "metadata": {},
   "outputs": [],
   "source": []
  }
 ],
 "metadata": {
  "kernelspec": {
   "display_name": "Python [conda env:learn-env] *",
   "language": "python",
   "name": "conda-env-learn-env-py"
  },
  "language_info": {
   "codemirror_mode": {
    "name": "ipython",
    "version": 3
   },
   "file_extension": ".py",
   "mimetype": "text/x-python",
   "name": "python",
   "nbconvert_exporter": "python",
   "pygments_lexer": "ipython3",
   "version": "3.6.6"
  }
 },
 "nbformat": 4,
 "nbformat_minor": 2
}
